{
 "cells": [
  {
   "cell_type": "code",
   "execution_count": 12,
   "id": "2fa13a9d",
   "metadata": {
    "scrolled": true
   },
   "outputs": [],
   "source": [
    "from animal_shelter import AnimalShelter"
   ]
  },
  {
   "cell_type": "code",
   "execution_count": 13,
   "id": "15e5cd8c",
   "metadata": {},
   "outputs": [
    {
     "name": "stdout",
     "output_type": "stream",
     "text": [
      "Hello Animal Shelter\n"
     ]
    }
   ],
   "source": [
    "animals = AnimalShelter(\"aacuser\", \"Serrina123\")"
   ]
  },
  {
   "cell_type": "code",
   "execution_count": 14,
   "id": "7367530d",
   "metadata": {},
   "outputs": [
    {
     "name": "stdout",
     "output_type": "stream",
     "text": [
      "Working in Create Method...\n",
      "False\n"
     ]
    }
   ],
   "source": [
    "#Create a Valid document\n",
    "print(animals.create ({\n",
    "'age_upon_outcome': \"4 years\",\n",
    "'animal_id': \"NA22226202339\",\n",
    "'animal_type': \"Dog\",\n",
    "'breed': \"Pit Mix\",\n",
    "'color': \"Tan\",\n",
    "'date_of_birth': \"2020-01-21\",\n",
    "'datetime': \"2020-01-21 11:14:00\",\n",
    "'monthyear': \"2020-01-21 11:14:00\",\n",
    "'name': \"Nellie\",\n",
    "'outcome_subtype': \"Partner\",\n",
    "'outcome_type': \"Transfer\",\n",
    "'sex_upon_outcome': \"Spayed Female\",\n",
    "'location_lat': 30.652598450228,\n",
    "'location_long': -97.7419963476444,\n",
    "'age_upone_outcome_in_weeks': 52.98}))"
   ]
  },
  {
   "cell_type": "code",
   "execution_count": 15,
   "id": "caa83161",
   "metadata": {},
   "outputs": [
    {
     "name": "stdout",
     "output_type": "stream",
     "text": [
      "Working in Create Method...\n"
     ]
    },
    {
     "ename": "TypeError",
     "evalue": "argument of type 'float' is not iterable",
     "output_type": "error",
     "traceback": [
      "\u001b[0;31m---------------------------------------------------------------------------\u001b[0m",
      "\u001b[0;31mTypeError\u001b[0m                                 Traceback (most recent call last)",
      "Input \u001b[0;32mIn [15]\u001b[0m, in \u001b[0;36m<cell line: 2>\u001b[0;34m()\u001b[0m\n\u001b[1;32m      1\u001b[0m \u001b[38;5;66;03m#Invalid Document\u001b[39;00m\n\u001b[0;32m----> 2\u001b[0m \u001b[38;5;28mprint\u001b[39m(\u001b[43manimals\u001b[49m\u001b[38;5;241;43m.\u001b[39;49m\u001b[43mcreate\u001b[49m\u001b[43m(\u001b[49m\u001b[43m{\u001b[49m\u001b[38;5;241;43m0.0\u001b[39;49m\u001b[43m}\u001b[49m\u001b[43m)\u001b[49m)\n",
      "File \u001b[0;32m~/animal_shelter.py:31\u001b[0m, in \u001b[0;36mAnimalShelter.create\u001b[0;34m(self, data)\u001b[0m\n\u001b[1;32m     28\u001b[0m \u001b[38;5;28mprint\u001b[39m(\u001b[38;5;124m\"\u001b[39m\u001b[38;5;124mWorking in Create Method...\u001b[39m\u001b[38;5;124m\"\u001b[39m)\n\u001b[1;32m     30\u001b[0m \u001b[38;5;28;01mif\u001b[39;00m data \u001b[38;5;129;01mis\u001b[39;00m \u001b[38;5;129;01mnot\u001b[39;00m \u001b[38;5;28;01mNone\u001b[39;00m: \n\u001b[0;32m---> 31\u001b[0m     insertSuccess \u001b[38;5;241m=\u001b[39m \u001b[38;5;28;43mself\u001b[39;49m\u001b[38;5;241;43m.\u001b[39;49m\u001b[43mdatabase\u001b[49m\u001b[38;5;241;43m.\u001b[39;49m\u001b[43manimals\u001b[49m\u001b[38;5;241;43m.\u001b[39;49m\u001b[43minsert\u001b[49m\u001b[43m(\u001b[49m\u001b[43mdata\u001b[49m\u001b[43m)\u001b[49m \u001b[38;5;66;03m#Data should be within dictionary\u001b[39;00m\n\u001b[1;32m     32\u001b[0m     \u001b[38;5;28;01mif\u001b[39;00m insertSuccess \u001b[38;5;241m!=\u001b[39m\u001b[38;5;241m0\u001b[39m:\n\u001b[1;32m     33\u001b[0m         \u001b[38;5;28;01mreturn\u001b[39;00m \u001b[38;5;28;01mFalse\u001b[39;00m\n",
      "File \u001b[0;32m/usr/local/anaconda/lib/python3.9/site-packages/pymongo/collection.py:3333\u001b[0m, in \u001b[0;36mCollection.insert\u001b[0;34m(self, doc_or_docs, manipulate, check_keys, continue_on_error, **kwargs)\u001b[0m\n\u001b[1;32m   3331\u001b[0m \u001b[38;5;28;01mif\u001b[39;00m kwargs:\n\u001b[1;32m   3332\u001b[0m     write_concern \u001b[38;5;241m=\u001b[39m WriteConcern(\u001b[38;5;241m*\u001b[39m\u001b[38;5;241m*\u001b[39mkwargs)\n\u001b[0;32m-> 3333\u001b[0m \u001b[38;5;28;01mreturn\u001b[39;00m \u001b[38;5;28;43mself\u001b[39;49m\u001b[38;5;241;43m.\u001b[39;49m\u001b[43m_insert\u001b[49m\u001b[43m(\u001b[49m\u001b[43mdoc_or_docs\u001b[49m\u001b[43m,\u001b[49m\u001b[43m \u001b[49m\u001b[38;5;129;43;01mnot\u001b[39;49;00m\u001b[43m \u001b[49m\u001b[43mcontinue_on_error\u001b[49m\u001b[43m,\u001b[49m\n\u001b[1;32m   3334\u001b[0m \u001b[43m                    \u001b[49m\u001b[43mcheck_keys\u001b[49m\u001b[43m,\u001b[49m\u001b[43m \u001b[49m\u001b[43mmanipulate\u001b[49m\u001b[43m,\u001b[49m\u001b[43m \u001b[49m\u001b[43mwrite_concern\u001b[49m\u001b[43m)\u001b[49m\n",
      "File \u001b[0;32m/usr/local/anaconda/lib/python3.9/site-packages/pymongo/collection.py:654\u001b[0m, in \u001b[0;36mCollection._insert\u001b[0;34m(self, docs, ordered, check_keys, manipulate, write_concern, op_id, bypass_doc_val, session)\u001b[0m\n\u001b[1;32m    652\u001b[0m write_concern \u001b[38;5;241m=\u001b[39m write_concern \u001b[38;5;129;01mor\u001b[39;00m \u001b[38;5;28mself\u001b[39m\u001b[38;5;241m.\u001b[39m_write_concern_for(session)\n\u001b[1;32m    653\u001b[0m blk \u001b[38;5;241m=\u001b[39m _Bulk(\u001b[38;5;28mself\u001b[39m, ordered, bypass_doc_val)\n\u001b[0;32m--> 654\u001b[0m blk\u001b[38;5;241m.\u001b[39mops \u001b[38;5;241m=\u001b[39m [(message\u001b[38;5;241m.\u001b[39m_INSERT, doc) \u001b[38;5;28;01mfor\u001b[39;00m doc \u001b[38;5;129;01min\u001b[39;00m gen()]\n\u001b[1;32m    655\u001b[0m \u001b[38;5;28;01mtry\u001b[39;00m:\n\u001b[1;32m    656\u001b[0m     blk\u001b[38;5;241m.\u001b[39mexecute(write_concern, session\u001b[38;5;241m=\u001b[39msession)\n",
      "File \u001b[0;32m/usr/local/anaconda/lib/python3.9/site-packages/pymongo/collection.py:654\u001b[0m, in \u001b[0;36m<listcomp>\u001b[0;34m(.0)\u001b[0m\n\u001b[1;32m    652\u001b[0m write_concern \u001b[38;5;241m=\u001b[39m write_concern \u001b[38;5;129;01mor\u001b[39;00m \u001b[38;5;28mself\u001b[39m\u001b[38;5;241m.\u001b[39m_write_concern_for(session)\n\u001b[1;32m    653\u001b[0m blk \u001b[38;5;241m=\u001b[39m _Bulk(\u001b[38;5;28mself\u001b[39m, ordered, bypass_doc_val)\n\u001b[0;32m--> 654\u001b[0m blk\u001b[38;5;241m.\u001b[39mops \u001b[38;5;241m=\u001b[39m [(message\u001b[38;5;241m.\u001b[39m_INSERT, doc) \u001b[38;5;28;01mfor\u001b[39;00m doc \u001b[38;5;129;01min\u001b[39;00m gen()]\n\u001b[1;32m    655\u001b[0m \u001b[38;5;28;01mtry\u001b[39;00m:\n\u001b[1;32m    656\u001b[0m     blk\u001b[38;5;241m.\u001b[39mexecute(write_concern, session\u001b[38;5;241m=\u001b[39msession)\n",
      "File \u001b[0;32m/usr/local/anaconda/lib/python3.9/site-packages/pymongo/collection.py:637\u001b[0m, in \u001b[0;36mCollection._insert.<locals>.gen\u001b[0;34m()\u001b[0m\n\u001b[1;32m    632\u001b[0m \u001b[38;5;28;01mfor\u001b[39;00m doc \u001b[38;5;129;01min\u001b[39;00m docs:\n\u001b[1;32m    633\u001b[0m     \u001b[38;5;66;03m# Apply user-configured SON manipulators. This order of\u001b[39;00m\n\u001b[1;32m    634\u001b[0m     \u001b[38;5;66;03m# operations is required for backwards compatibility,\u001b[39;00m\n\u001b[1;32m    635\u001b[0m     \u001b[38;5;66;03m# see PYTHON-709.\u001b[39;00m\n\u001b[1;32m    636\u001b[0m     doc \u001b[38;5;241m=\u001b[39m _db\u001b[38;5;241m.\u001b[39m_apply_incoming_manipulators(doc, \u001b[38;5;28mself\u001b[39m)\n\u001b[0;32m--> 637\u001b[0m     \u001b[38;5;28;01mif\u001b[39;00m \u001b[38;5;129;01mnot\u001b[39;00m (\u001b[38;5;28misinstance\u001b[39m(doc, RawBSONDocument) \u001b[38;5;129;01mor\u001b[39;00m \u001b[38;5;124;43m'\u001b[39;49m\u001b[38;5;124;43m_id\u001b[39;49m\u001b[38;5;124;43m'\u001b[39;49m\u001b[43m \u001b[49m\u001b[38;5;129;43;01min\u001b[39;49;00m\u001b[43m \u001b[49m\u001b[43mdoc\u001b[49m):\n\u001b[1;32m    638\u001b[0m         doc[\u001b[38;5;124m'\u001b[39m\u001b[38;5;124m_id\u001b[39m\u001b[38;5;124m'\u001b[39m] \u001b[38;5;241m=\u001b[39m ObjectId()\n\u001b[1;32m    640\u001b[0m     doc \u001b[38;5;241m=\u001b[39m _db\u001b[38;5;241m.\u001b[39m_apply_incoming_copying_manipulators(doc, \u001b[38;5;28mself\u001b[39m)\n",
      "\u001b[0;31mTypeError\u001b[0m: argument of type 'float' is not iterable"
     ]
    }
   ],
   "source": [
    "#Invalid Document\n",
    "print(animals.create({0.0}))"
   ]
  },
  {
   "cell_type": "code",
   "execution_count": 5,
   "id": "608813a5",
   "metadata": {},
   "outputs": [
    {
     "name": "stdout",
     "output_type": "stream",
     "text": [
      "Working in Read Method...\n",
      "{'rec_num': 962, 'age_upon_outcome': '7 years', 'animal_id': 'A693120', 'animal_type': 'Dog', 'breed': 'Golden Retriever Mix', 'color': 'Gold', 'date_of_birth': '2007-12-02', 'datetime': '2014-12-04 18:51:00', 'monthyear': '2014-12-04T18:51:00', 'name': 'Rex', 'outcome_subtype': 'Partner', 'outcome_type': 'Transfer', 'sex_upon_outcome': 'Neutered Male', 'location_lat': 30.5531027415921, 'location_long': -97.4993115005773, 'age_upon_outcome_in_weeks': 365.683630952381}\n",
      "{'rec_num': 1175, 'age_upon_outcome': '2 years', 'animal_id': 'A703624', 'animal_type': 'Dog', 'breed': 'Pit Bull Mix', 'color': 'White/Brown', 'date_of_birth': '2013-05-27', 'datetime': '2016-04-12 18:55:00', 'monthyear': '2016-04-12T18:55:00', 'name': 'Rex', 'outcome_subtype': '', 'outcome_type': 'Return to Owner', 'sex_upon_outcome': 'Neutered Male', 'location_lat': 30.3582371758306, 'location_long': -97.6267377176725, 'age_upon_outcome_in_weeks': 150.255456349206}\n",
      "{'rec_num': 1250, 'age_upon_outcome': '7 years', 'animal_id': 'A698462', 'animal_type': 'Dog', 'breed': 'Labrador Retriever Mix', 'color': 'Yellow/White', 'date_of_birth': '2008-03-12', 'datetime': '2015-03-15 17:52:00', 'monthyear': '2015-03-15T17:52:00', 'name': 'Rex', 'outcome_subtype': '', 'outcome_type': 'Return to Owner', 'sex_upon_outcome': 'Intact Male', 'location_lat': 30.6197468681601, 'location_long': -97.6027514415381, 'age_upon_outcome_in_weeks': 365.677777777778}\n",
      "{'rec_num': 2091, 'age_upon_outcome': '2 months', 'animal_id': 'A714450', 'animal_type': 'Dog', 'breed': 'Chihuahua Shorthair', 'color': 'Blue/White', 'date_of_birth': '2015-08-23', 'datetime': '2015-10-24 16:41:00', 'monthyear': '2015-10-24T16:41:00', 'name': 'Rex', 'outcome_subtype': '', 'outcome_type': 'Return to Owner', 'sex_upon_outcome': 'Neutered Male', 'location_lat': 30.2787181913487, 'location_long': -97.3998557015709, 'age_upon_outcome_in_weeks': 8.95644841269841}\n",
      "{'rec_num': 2128, 'age_upon_outcome': '2 years', 'animal_id': 'A736011', 'animal_type': 'Dog', 'breed': 'German Shorthair Pointer Mix', 'color': 'Chocolate', 'date_of_birth': '2014-10-02', 'datetime': '2016-10-03 14:17:00', 'monthyear': '2016-10-03T14:17:00', 'name': 'Rex', 'outcome_subtype': '', 'outcome_type': 'Return to Owner', 'sex_upon_outcome': 'Neutered Male', 'location_lat': 30.375009426764, 'location_long': -97.5753145432081, 'age_upon_outcome_in_weeks': 104.656448412698}\n",
      "{'rec_num': 2420, 'age_upon_outcome': '3 years', 'animal_id': 'A667090', 'animal_type': 'Dog', 'breed': 'Pit Bull Mix', 'color': 'Chocolate/White', 'date_of_birth': '2010-05-18', 'datetime': '2013-11-19 11:02:00', 'monthyear': '2013-11-19T11:02:00', 'name': 'Rex', 'outcome_subtype': 'Behavior', 'outcome_type': 'Euthanasia', 'sex_upon_outcome': 'Intact Male', 'location_lat': 30.318418955025, 'location_long': -97.6293635191184, 'age_upon_outcome_in_weeks': 183.065674603175}\n",
      "{'rec_num': 2599, 'age_upon_outcome': '1 year', 'animal_id': 'A682590', 'animal_type': 'Dog', 'breed': 'Mastiff/Boxer', 'color': 'Tan/White', 'date_of_birth': '2014-01-30', 'datetime': '2015-12-16 17:40:00', 'monthyear': '2015-12-16T17:40:00', 'name': 'Rex', 'outcome_subtype': '', 'outcome_type': 'Adoption', 'sex_upon_outcome': 'Neutered Male', 'location_lat': 30.3114816590906, 'location_long': -97.2952667860626, 'age_upon_outcome_in_weeks': 97.9623015873016}\n",
      "{'rec_num': 3117, 'age_upon_outcome': '7 years', 'animal_id': 'A629187', 'animal_type': 'Dog', 'breed': 'Chihuahua Shorthair Mix', 'color': 'Buff', 'date_of_birth': '2010-06-06', 'datetime': '2017-07-27 14:25:00', 'monthyear': '2017-07-27T14:25:00', 'name': 'Rex', 'outcome_subtype': '', 'outcome_type': 'Return to Owner', 'sex_upon_outcome': 'Neutered Male', 'location_lat': 30.6211749390762, 'location_long': -97.5625166482942, 'age_upon_outcome_in_weeks': 372.657242063492}\n",
      "{'rec_num': 3173, 'age_upon_outcome': '4 years', 'animal_id': 'A637206', 'animal_type': 'Dog', 'breed': 'Rottweiler Mix', 'color': 'Black/Tan', 'date_of_birth': '2011-09-14', 'datetime': '2016-02-27 16:00:00', 'monthyear': '2016-02-27T16:00:00', 'name': 'Rex', 'outcome_subtype': '', 'outcome_type': 'Return to Owner', 'sex_upon_outcome': 'Neutered Male', 'location_lat': 30.4658643373754, 'location_long': -97.2656775798968, 'age_upon_outcome_in_weeks': 232.52380952381}\n",
      "{'rec_num': 3837, 'age_upon_outcome': '3 years', 'animal_id': 'A651275', 'animal_type': 'Dog', 'breed': 'German Shepherd Mix', 'color': 'Black/Tan', 'date_of_birth': '2012-12-24', 'datetime': '2016-02-02 14:55:00', 'monthyear': '2016-02-02T14:55:00', 'name': 'Rex', 'outcome_subtype': 'Partner', 'outcome_type': 'Transfer', 'sex_upon_outcome': 'Neutered Male', 'location_lat': 30.4177621295128, 'location_long': -97.2865214196278, 'age_upon_outcome_in_weeks': 162.231646825397}\n",
      "{'rec_num': 4196, 'age_upon_outcome': '1 year', 'animal_id': 'A678537', 'animal_type': 'Dog', 'breed': 'Pit Bull Mix', 'color': 'Blue/White', 'date_of_birth': '2013-05-09', 'datetime': '2014-12-08 13:01:00', 'monthyear': '2014-12-08T13:01:00', 'name': 'Rex', 'outcome_subtype': 'Partner', 'outcome_type': 'Transfer', 'sex_upon_outcome': 'Intact Male', 'location_lat': 30.3719114464291, 'location_long': -97.7283626435569, 'age_upon_outcome_in_weeks': 82.6489087301587}\n",
      "{'rec_num': 4376, 'age_upon_outcome': '10 months', 'animal_id': 'A651275', 'animal_type': 'Dog', 'breed': 'German Shepherd Mix', 'color': 'Black/Tan', 'date_of_birth': '2012-12-24', 'datetime': '2013-11-09 14:11:00', 'monthyear': '2013-11-09T14:11:00', 'name': 'Rex', 'outcome_subtype': '', 'outcome_type': 'Adoption', 'sex_upon_outcome': 'Neutered Male', 'location_lat': 30.3787607248318, 'location_long': -97.4342348874998, 'age_upon_outcome_in_weeks': 45.7987103174603}\n",
      "{'rec_num': 4618, 'age_upon_outcome': '1 year', 'animal_id': 'A699090', 'animal_type': 'Dog', 'breed': 'Rottweiler Mix', 'color': 'Black/Brown', 'date_of_birth': '2014-03-22', 'datetime': '2015-03-23 18:46:00', 'monthyear': '2015-03-23T18:46:00', 'name': 'Rex', 'outcome_subtype': '', 'outcome_type': 'Return to Owner', 'sex_upon_outcome': 'Intact Male', 'location_lat': 30.5386801244642, 'location_long': -97.3509699090293, 'age_upon_outcome_in_weeks': 52.3974206349206}\n",
      "{'rec_num': 5264, 'age_upon_outcome': '1 year', 'animal_id': 'A669978', 'animal_type': 'Dog', 'breed': 'Whippet Mix', 'color': 'Red', 'date_of_birth': '2012-12-31', 'datetime': '2014-01-01 17:09:00', 'monthyear': '2014-01-01T17:09:00', 'name': 'Rex', 'outcome_subtype': '', 'outcome_type': 'Return to Owner', 'sex_upon_outcome': 'Neutered Male', 'location_lat': 30.3860340847797, 'location_long': -97.5755842389029, 'age_upon_outcome_in_weeks': 52.3877976190476}\n",
      "{'rec_num': 5602, 'age_upon_outcome': '1 year', 'animal_id': 'A755728', 'animal_type': 'Dog', 'breed': 'Pit Bull Mix', 'color': 'Brown Brindle/White', 'date_of_birth': '2016-08-08', 'datetime': '2018-01-14 14:24:00', 'monthyear': '2018-01-14T14:24:00', 'name': 'Rex', 'outcome_subtype': '', 'outcome_type': 'Return to Owner', 'sex_upon_outcome': 'Neutered Male', 'location_lat': 30.7570268557763, 'location_long': -97.5934075018631, 'age_upon_outcome_in_weeks': 74.9428571428571}\n",
      "{'rec_num': 6123, 'age_upon_outcome': '1 year', 'animal_id': 'A725884', 'animal_type': 'Dog', 'breed': 'German Shepherd Mix', 'color': 'Brown', 'date_of_birth': '2015-05-03', 'datetime': '2016-05-03 16:45:00', 'monthyear': '2016-05-03T16:45:00', 'name': 'Rex', 'outcome_subtype': '', 'outcome_type': 'Return to Owner', 'sex_upon_outcome': 'Neutered Male', 'location_lat': 30.7108896613249, 'location_long': -97.5174514535396, 'age_upon_outcome_in_weeks': 52.3854166666667}\n",
      "{'rec_num': 6963, 'age_upon_outcome': '1 year', 'animal_id': 'A696020', 'animal_type': 'Dog', 'breed': 'Rottweiler Mix', 'color': 'Black/Tan', 'date_of_birth': '2013-10-27', 'datetime': '2015-02-06 18:44:00', 'monthyear': '2015-02-06T18:44:00', 'name': 'Rex', 'outcome_subtype': '', 'outcome_type': 'Return to Owner', 'sex_upon_outcome': 'Intact Male', 'location_lat': 30.4442945931572, 'location_long': -97.4945440444166, 'age_upon_outcome_in_weeks': 66.8257936507937}\n",
      "{'rec_num': 7090, 'age_upon_outcome': '1 year', 'animal_id': 'A694662', 'animal_type': 'Dog', 'breed': 'Pit Bull/German Shepherd', 'color': 'Brown', 'date_of_birth': '2013-09-01', 'datetime': '2015-01-27 13:08:00', 'monthyear': '2015-01-27T13:08:00', 'name': 'Rex', 'outcome_subtype': '', 'outcome_type': 'Return to Owner', 'sex_upon_outcome': 'Neutered Male', 'location_lat': 30.5671288440269, 'location_long': -97.7354101350987, 'age_upon_outcome_in_weeks': 73.3638888888889}\n",
      "{'rec_num': 7302, 'age_upon_outcome': '5 months', 'animal_id': 'A725141', 'animal_type': 'Dog', 'breed': 'Pit Bull Mix', 'color': 'White/Black', 'date_of_birth': '2016-02-26', 'datetime': '2016-08-15 15:00:00', 'monthyear': '2016-08-15T15:00:00', 'name': 'Rex', 'outcome_subtype': '', 'outcome_type': 'Return to Owner', 'sex_upon_outcome': 'Neutered Male', 'location_lat': 30.2920731220548, 'location_long': -97.5455268822436, 'age_upon_outcome_in_weeks': 24.5178571428571}\n",
      "{'rec_num': 7377, 'age_upon_outcome': '2 years', 'animal_id': 'A703624', 'animal_type': 'Dog', 'breed': 'Pit Bull Mix', 'color': 'White/Brown', 'date_of_birth': '2013-05-27', 'datetime': '2015-05-31 15:35:00', 'monthyear': '2015-05-31T15:35:00', 'name': 'Rex', 'outcome_subtype': '', 'outcome_type': 'Return to Owner', 'sex_upon_outcome': 'Intact Male', 'location_lat': 30.4432339534359, 'location_long': -97.4316322786352, 'age_upon_outcome_in_weeks': 104.949900793651}\n",
      "{'rec_num': 8289, 'age_upon_outcome': '1 year', 'animal_id': 'A669978', 'animal_type': 'Dog', 'breed': 'Whippet Mix', 'color': 'Red', 'date_of_birth': '2012-12-31', 'datetime': '2014-02-23 12:52:00', 'monthyear': '2014-02-23T12:52:00', 'name': 'Rex', 'outcome_subtype': '', 'outcome_type': 'Return to Owner', 'sex_upon_outcome': 'Neutered Male', 'location_lat': 30.7287961521936, 'location_long': -97.6336394410841, 'age_upon_outcome_in_weeks': 59.9337301587302}\n",
      "{'rec_num': 8649, 'age_upon_outcome': '12 years', 'animal_id': 'A251214', 'animal_type': 'Dog', 'breed': 'German Shepherd Mix', 'color': 'Cream', 'date_of_birth': '2001-10-27', 'datetime': '2014-09-04 16:12:00', 'monthyear': '2014-09-04T16:12:00', 'name': 'Rex', 'outcome_subtype': '', 'outcome_type': 'Return to Owner', 'sex_upon_outcome': 'Neutered Male', 'location_lat': 30.5350026917388, 'location_long': -97.7391256654572, 'age_upon_outcome_in_weeks': 670.810714285714}\n",
      "{'rec_num': 8976, 'age_upon_outcome': '1 year', 'animal_id': 'A744301', 'animal_type': 'Dog', 'breed': 'Chihuahua Shorthair Mix', 'color': 'Tan', 'date_of_birth': '2016-02-26', 'datetime': '2017-08-14 11:55:00', 'monthyear': '2017-08-14T11:55:00', 'name': 'Rex', 'outcome_subtype': '', 'outcome_type': 'Adoption', 'sex_upon_outcome': 'Neutered Male', 'location_lat': 30.6445882693881, 'location_long': -97.5852186471212, 'age_upon_outcome_in_weeks': 76.499503968254}\n",
      "{'rec_num': 9289, 'age_upon_outcome': '4 years', 'animal_id': 'A698339', 'animal_type': 'Dog', 'breed': 'German Shepherd Mix', 'color': 'Black/Tan', 'date_of_birth': '2011-03-10', 'datetime': '2015-03-12 17:43:00', 'monthyear': '2015-03-12T17:43:00', 'name': 'Rex', 'outcome_subtype': '', 'outcome_type': 'Return to Owner', 'sex_upon_outcome': 'Neutered Male', 'location_lat': 30.5125060056143, 'location_long': -97.4782132981033, 'age_upon_outcome_in_weeks': 209.105456349206}\n",
      "{'rec_num': 9915, 'age_upon_outcome': '3 years', 'animal_id': 'A729153', 'animal_type': 'Dog', 'breed': 'German Shepherd/Pit Bull', 'color': 'Brown Brindle', 'date_of_birth': '2013-06-14', 'datetime': '2016-09-18 18:55:00', 'monthyear': '2016-09-18T18:55:00', 'name': 'Rex', 'outcome_subtype': '', 'outcome_type': 'Adoption', 'sex_upon_outcome': 'Intact Male', 'location_lat': 30.6356547979233, 'location_long': -97.5949082300561, 'age_upon_outcome_in_weeks': 170.398313492063}\n",
      "{'rec_num': 962, 'age_upon_outcome': '7 years', 'animal_id': 'A693120', 'animal_type': 'Dog', 'breed': 'Golden Retriever Mix', 'color': 'Gold', 'date_of_birth': '2007-12-02', 'datetime': '2014-12-04 18:51:00', 'monthyear': '2014-12-04T18:51:00', 'name': 'Rex', 'outcome_subtype': 'Partner', 'outcome_type': 'Transfer', 'sex_upon_outcome': 'Neutered Male', 'location_lat': 30.5531027415921, 'location_long': -97.4993115005773, 'age_upon_outcome_in_weeks': 365.683630952381}\n",
      "{'rec_num': 1175, 'age_upon_outcome': '2 years', 'animal_id': 'A703624', 'animal_type': 'Dog', 'breed': 'Pit Bull Mix', 'color': 'White/Brown', 'date_of_birth': '2013-05-27', 'datetime': '2016-04-12 18:55:00', 'monthyear': '2016-04-12T18:55:00', 'name': 'Rex', 'outcome_subtype': '', 'outcome_type': 'Return to Owner', 'sex_upon_outcome': 'Neutered Male', 'location_lat': 30.3582371758306, 'location_long': -97.6267377176725, 'age_upon_outcome_in_weeks': 150.255456349206}\n",
      "{'rec_num': 1250, 'age_upon_outcome': '7 years', 'animal_id': 'A698462', 'animal_type': 'Dog', 'breed': 'Labrador Retriever Mix', 'color': 'Yellow/White', 'date_of_birth': '2008-03-12', 'datetime': '2015-03-15 17:52:00', 'monthyear': '2015-03-15T17:52:00', 'name': 'Rex', 'outcome_subtype': '', 'outcome_type': 'Return to Owner', 'sex_upon_outcome': 'Intact Male', 'location_lat': 30.6197468681601, 'location_long': -97.6027514415381, 'age_upon_outcome_in_weeks': 365.677777777778}\n",
      "{'rec_num': 2091, 'age_upon_outcome': '2 months', 'animal_id': 'A714450', 'animal_type': 'Dog', 'breed': 'Chihuahua Shorthair', 'color': 'Blue/White', 'date_of_birth': '2015-08-23', 'datetime': '2015-10-24 16:41:00', 'monthyear': '2015-10-24T16:41:00', 'name': 'Rex', 'outcome_subtype': '', 'outcome_type': 'Return to Owner', 'sex_upon_outcome': 'Neutered Male', 'location_lat': 30.2787181913487, 'location_long': -97.3998557015709, 'age_upon_outcome_in_weeks': 8.95644841269841}\n",
      "{'rec_num': 2128, 'age_upon_outcome': '2 years', 'animal_id': 'A736011', 'animal_type': 'Dog', 'breed': 'German Shorthair Pointer Mix', 'color': 'Chocolate', 'date_of_birth': '2014-10-02', 'datetime': '2016-10-03 14:17:00', 'monthyear': '2016-10-03T14:17:00', 'name': 'Rex', 'outcome_subtype': '', 'outcome_type': 'Return to Owner', 'sex_upon_outcome': 'Neutered Male', 'location_lat': 30.375009426764, 'location_long': -97.5753145432081, 'age_upon_outcome_in_weeks': 104.656448412698}\n",
      "{'rec_num': 2420, 'age_upon_outcome': '3 years', 'animal_id': 'A667090', 'animal_type': 'Dog', 'breed': 'Pit Bull Mix', 'color': 'Chocolate/White', 'date_of_birth': '2010-05-18', 'datetime': '2013-11-19 11:02:00', 'monthyear': '2013-11-19T11:02:00', 'name': 'Rex', 'outcome_subtype': 'Behavior', 'outcome_type': 'Euthanasia', 'sex_upon_outcome': 'Intact Male', 'location_lat': 30.318418955025, 'location_long': -97.6293635191184, 'age_upon_outcome_in_weeks': 183.065674603175}\n",
      "{'rec_num': 2599, 'age_upon_outcome': '1 year', 'animal_id': 'A682590', 'animal_type': 'Dog', 'breed': 'Mastiff/Boxer', 'color': 'Tan/White', 'date_of_birth': '2014-01-30', 'datetime': '2015-12-16 17:40:00', 'monthyear': '2015-12-16T17:40:00', 'name': 'Rex', 'outcome_subtype': '', 'outcome_type': 'Adoption', 'sex_upon_outcome': 'Neutered Male', 'location_lat': 30.3114816590906, 'location_long': -97.2952667860626, 'age_upon_outcome_in_weeks': 97.9623015873016}\n",
      "{'rec_num': 3117, 'age_upon_outcome': '7 years', 'animal_id': 'A629187', 'animal_type': 'Dog', 'breed': 'Chihuahua Shorthair Mix', 'color': 'Buff', 'date_of_birth': '2010-06-06', 'datetime': '2017-07-27 14:25:00', 'monthyear': '2017-07-27T14:25:00', 'name': 'Rex', 'outcome_subtype': '', 'outcome_type': 'Return to Owner', 'sex_upon_outcome': 'Neutered Male', 'location_lat': 30.6211749390762, 'location_long': -97.5625166482942, 'age_upon_outcome_in_weeks': 372.657242063492}\n",
      "{'rec_num': 3173, 'age_upon_outcome': '4 years', 'animal_id': 'A637206', 'animal_type': 'Dog', 'breed': 'Rottweiler Mix', 'color': 'Black/Tan', 'date_of_birth': '2011-09-14', 'datetime': '2016-02-27 16:00:00', 'monthyear': '2016-02-27T16:00:00', 'name': 'Rex', 'outcome_subtype': '', 'outcome_type': 'Return to Owner', 'sex_upon_outcome': 'Neutered Male', 'location_lat': 30.4658643373754, 'location_long': -97.2656775798968, 'age_upon_outcome_in_weeks': 232.52380952381}\n",
      "{'rec_num': 3837, 'age_upon_outcome': '3 years', 'animal_id': 'A651275', 'animal_type': 'Dog', 'breed': 'German Shepherd Mix', 'color': 'Black/Tan', 'date_of_birth': '2012-12-24', 'datetime': '2016-02-02 14:55:00', 'monthyear': '2016-02-02T14:55:00', 'name': 'Rex', 'outcome_subtype': 'Partner', 'outcome_type': 'Transfer', 'sex_upon_outcome': 'Neutered Male', 'location_lat': 30.4177621295128, 'location_long': -97.2865214196278, 'age_upon_outcome_in_weeks': 162.231646825397}\n",
      "{'rec_num': 4196, 'age_upon_outcome': '1 year', 'animal_id': 'A678537', 'animal_type': 'Dog', 'breed': 'Pit Bull Mix', 'color': 'Blue/White', 'date_of_birth': '2013-05-09', 'datetime': '2014-12-08 13:01:00', 'monthyear': '2014-12-08T13:01:00', 'name': 'Rex', 'outcome_subtype': 'Partner', 'outcome_type': 'Transfer', 'sex_upon_outcome': 'Intact Male', 'location_lat': 30.3719114464291, 'location_long': -97.7283626435569, 'age_upon_outcome_in_weeks': 82.6489087301587}\n",
      "{'rec_num': 4376, 'age_upon_outcome': '10 months', 'animal_id': 'A651275', 'animal_type': 'Dog', 'breed': 'German Shepherd Mix', 'color': 'Black/Tan', 'date_of_birth': '2012-12-24', 'datetime': '2013-11-09 14:11:00', 'monthyear': '2013-11-09T14:11:00', 'name': 'Rex', 'outcome_subtype': '', 'outcome_type': 'Adoption', 'sex_upon_outcome': 'Neutered Male', 'location_lat': 30.3787607248318, 'location_long': -97.4342348874998, 'age_upon_outcome_in_weeks': 45.7987103174603}\n",
      "{'rec_num': 4618, 'age_upon_outcome': '1 year', 'animal_id': 'A699090', 'animal_type': 'Dog', 'breed': 'Rottweiler Mix', 'color': 'Black/Brown', 'date_of_birth': '2014-03-22', 'datetime': '2015-03-23 18:46:00', 'monthyear': '2015-03-23T18:46:00', 'name': 'Rex', 'outcome_subtype': '', 'outcome_type': 'Return to Owner', 'sex_upon_outcome': 'Intact Male', 'location_lat': 30.5386801244642, 'location_long': -97.3509699090293, 'age_upon_outcome_in_weeks': 52.3974206349206}\n",
      "{'rec_num': 5264, 'age_upon_outcome': '1 year', 'animal_id': 'A669978', 'animal_type': 'Dog', 'breed': 'Whippet Mix', 'color': 'Red', 'date_of_birth': '2012-12-31', 'datetime': '2014-01-01 17:09:00', 'monthyear': '2014-01-01T17:09:00', 'name': 'Rex', 'outcome_subtype': '', 'outcome_type': 'Return to Owner', 'sex_upon_outcome': 'Neutered Male', 'location_lat': 30.3860340847797, 'location_long': -97.5755842389029, 'age_upon_outcome_in_weeks': 52.3877976190476}\n",
      "{'rec_num': 5602, 'age_upon_outcome': '1 year', 'animal_id': 'A755728', 'animal_type': 'Dog', 'breed': 'Pit Bull Mix', 'color': 'Brown Brindle/White', 'date_of_birth': '2016-08-08', 'datetime': '2018-01-14 14:24:00', 'monthyear': '2018-01-14T14:24:00', 'name': 'Rex', 'outcome_subtype': '', 'outcome_type': 'Return to Owner', 'sex_upon_outcome': 'Neutered Male', 'location_lat': 30.7570268557763, 'location_long': -97.5934075018631, 'age_upon_outcome_in_weeks': 74.9428571428571}\n",
      "{'rec_num': 6123, 'age_upon_outcome': '1 year', 'animal_id': 'A725884', 'animal_type': 'Dog', 'breed': 'German Shepherd Mix', 'color': 'Brown', 'date_of_birth': '2015-05-03', 'datetime': '2016-05-03 16:45:00', 'monthyear': '2016-05-03T16:45:00', 'name': 'Rex', 'outcome_subtype': '', 'outcome_type': 'Return to Owner', 'sex_upon_outcome': 'Neutered Male', 'location_lat': 30.7108896613249, 'location_long': -97.5174514535396, 'age_upon_outcome_in_weeks': 52.3854166666667}\n",
      "{'rec_num': 6963, 'age_upon_outcome': '1 year', 'animal_id': 'A696020', 'animal_type': 'Dog', 'breed': 'Rottweiler Mix', 'color': 'Black/Tan', 'date_of_birth': '2013-10-27', 'datetime': '2015-02-06 18:44:00', 'monthyear': '2015-02-06T18:44:00', 'name': 'Rex', 'outcome_subtype': '', 'outcome_type': 'Return to Owner', 'sex_upon_outcome': 'Intact Male', 'location_lat': 30.4442945931572, 'location_long': -97.4945440444166, 'age_upon_outcome_in_weeks': 66.8257936507937}\n",
      "{'rec_num': 7090, 'age_upon_outcome': '1 year', 'animal_id': 'A694662', 'animal_type': 'Dog', 'breed': 'Pit Bull/German Shepherd', 'color': 'Brown', 'date_of_birth': '2013-09-01', 'datetime': '2015-01-27 13:08:00', 'monthyear': '2015-01-27T13:08:00', 'name': 'Rex', 'outcome_subtype': '', 'outcome_type': 'Return to Owner', 'sex_upon_outcome': 'Neutered Male', 'location_lat': 30.5671288440269, 'location_long': -97.7354101350987, 'age_upon_outcome_in_weeks': 73.3638888888889}\n",
      "{'rec_num': 7302, 'age_upon_outcome': '5 months', 'animal_id': 'A725141', 'animal_type': 'Dog', 'breed': 'Pit Bull Mix', 'color': 'White/Black', 'date_of_birth': '2016-02-26', 'datetime': '2016-08-15 15:00:00', 'monthyear': '2016-08-15T15:00:00', 'name': 'Rex', 'outcome_subtype': '', 'outcome_type': 'Return to Owner', 'sex_upon_outcome': 'Neutered Male', 'location_lat': 30.2920731220548, 'location_long': -97.5455268822436, 'age_upon_outcome_in_weeks': 24.5178571428571}\n",
      "{'rec_num': 7377, 'age_upon_outcome': '2 years', 'animal_id': 'A703624', 'animal_type': 'Dog', 'breed': 'Pit Bull Mix', 'color': 'White/Brown', 'date_of_birth': '2013-05-27', 'datetime': '2015-05-31 15:35:00', 'monthyear': '2015-05-31T15:35:00', 'name': 'Rex', 'outcome_subtype': '', 'outcome_type': 'Return to Owner', 'sex_upon_outcome': 'Intact Male', 'location_lat': 30.4432339534359, 'location_long': -97.4316322786352, 'age_upon_outcome_in_weeks': 104.949900793651}\n",
      "{'rec_num': 8289, 'age_upon_outcome': '1 year', 'animal_id': 'A669978', 'animal_type': 'Dog', 'breed': 'Whippet Mix', 'color': 'Red', 'date_of_birth': '2012-12-31', 'datetime': '2014-02-23 12:52:00', 'monthyear': '2014-02-23T12:52:00', 'name': 'Rex', 'outcome_subtype': '', 'outcome_type': 'Return to Owner', 'sex_upon_outcome': 'Neutered Male', 'location_lat': 30.7287961521936, 'location_long': -97.6336394410841, 'age_upon_outcome_in_weeks': 59.9337301587302}\n",
      "{'rec_num': 8649, 'age_upon_outcome': '12 years', 'animal_id': 'A251214', 'animal_type': 'Dog', 'breed': 'German Shepherd Mix', 'color': 'Cream', 'date_of_birth': '2001-10-27', 'datetime': '2014-09-04 16:12:00', 'monthyear': '2014-09-04T16:12:00', 'name': 'Rex', 'outcome_subtype': '', 'outcome_type': 'Return to Owner', 'sex_upon_outcome': 'Neutered Male', 'location_lat': 30.5350026917388, 'location_long': -97.7391256654572, 'age_upon_outcome_in_weeks': 670.810714285714}\n",
      "{'rec_num': 8976, 'age_upon_outcome': '1 year', 'animal_id': 'A744301', 'animal_type': 'Dog', 'breed': 'Chihuahua Shorthair Mix', 'color': 'Tan', 'date_of_birth': '2016-02-26', 'datetime': '2017-08-14 11:55:00', 'monthyear': '2017-08-14T11:55:00', 'name': 'Rex', 'outcome_subtype': '', 'outcome_type': 'Adoption', 'sex_upon_outcome': 'Neutered Male', 'location_lat': 30.6445882693881, 'location_long': -97.5852186471212, 'age_upon_outcome_in_weeks': 76.499503968254}\n",
      "{'rec_num': 9289, 'age_upon_outcome': '4 years', 'animal_id': 'A698339', 'animal_type': 'Dog', 'breed': 'German Shepherd Mix', 'color': 'Black/Tan', 'date_of_birth': '2011-03-10', 'datetime': '2015-03-12 17:43:00', 'monthyear': '2015-03-12T17:43:00', 'name': 'Rex', 'outcome_subtype': '', 'outcome_type': 'Return to Owner', 'sex_upon_outcome': 'Neutered Male', 'location_lat': 30.5125060056143, 'location_long': -97.4782132981033, 'age_upon_outcome_in_weeks': 209.105456349206}\n",
      "{'rec_num': 9915, 'age_upon_outcome': '3 years', 'animal_id': 'A729153', 'animal_type': 'Dog', 'breed': 'German Shepherd/Pit Bull', 'color': 'Brown Brindle', 'date_of_birth': '2013-06-14', 'datetime': '2016-09-18 18:55:00', 'monthyear': '2016-09-18T18:55:00', 'name': 'Rex', 'outcome_subtype': '', 'outcome_type': 'Adoption', 'sex_upon_outcome': 'Intact Male', 'location_lat': 30.6356547979233, 'location_long': -97.5949082300561, 'age_upon_outcome_in_weeks': 170.398313492063}\n",
      "{'rec_num': 962, 'age_upon_outcome': '7 years', 'animal_id': 'A693120', 'animal_type': 'Dog', 'breed': 'Golden Retriever Mix', 'color': 'Gold', 'date_of_birth': '2007-12-02', 'datetime': '2014-12-04 18:51:00', 'monthyear': '2014-12-04T18:51:00', 'name': 'Rex', 'outcome_subtype': 'Partner', 'outcome_type': 'Transfer', 'sex_upon_outcome': 'Neutered Male', 'location_lat': 30.5531027415921, 'location_long': -97.4993115005773, 'age_upon_outcome_in_weeks': 365.683630952381}\n",
      "{'rec_num': 1175, 'age_upon_outcome': '2 years', 'animal_id': 'A703624', 'animal_type': 'Dog', 'breed': 'Pit Bull Mix', 'color': 'White/Brown', 'date_of_birth': '2013-05-27', 'datetime': '2016-04-12 18:55:00', 'monthyear': '2016-04-12T18:55:00', 'name': 'Rex', 'outcome_subtype': '', 'outcome_type': 'Return to Owner', 'sex_upon_outcome': 'Neutered Male', 'location_lat': 30.3582371758306, 'location_long': -97.6267377176725, 'age_upon_outcome_in_weeks': 150.255456349206}\n",
      "{'rec_num': 1250, 'age_upon_outcome': '7 years', 'animal_id': 'A698462', 'animal_type': 'Dog', 'breed': 'Labrador Retriever Mix', 'color': 'Yellow/White', 'date_of_birth': '2008-03-12', 'datetime': '2015-03-15 17:52:00', 'monthyear': '2015-03-15T17:52:00', 'name': 'Rex', 'outcome_subtype': '', 'outcome_type': 'Return to Owner', 'sex_upon_outcome': 'Intact Male', 'location_lat': 30.6197468681601, 'location_long': -97.6027514415381, 'age_upon_outcome_in_weeks': 365.677777777778}\n",
      "{'rec_num': 2091, 'age_upon_outcome': '2 months', 'animal_id': 'A714450', 'animal_type': 'Dog', 'breed': 'Chihuahua Shorthair', 'color': 'Blue/White', 'date_of_birth': '2015-08-23', 'datetime': '2015-10-24 16:41:00', 'monthyear': '2015-10-24T16:41:00', 'name': 'Rex', 'outcome_subtype': '', 'outcome_type': 'Return to Owner', 'sex_upon_outcome': 'Neutered Male', 'location_lat': 30.2787181913487, 'location_long': -97.3998557015709, 'age_upon_outcome_in_weeks': 8.95644841269841}\n",
      "{'rec_num': 2128, 'age_upon_outcome': '2 years', 'animal_id': 'A736011', 'animal_type': 'Dog', 'breed': 'German Shorthair Pointer Mix', 'color': 'Chocolate', 'date_of_birth': '2014-10-02', 'datetime': '2016-10-03 14:17:00', 'monthyear': '2016-10-03T14:17:00', 'name': 'Rex', 'outcome_subtype': '', 'outcome_type': 'Return to Owner', 'sex_upon_outcome': 'Neutered Male', 'location_lat': 30.375009426764, 'location_long': -97.5753145432081, 'age_upon_outcome_in_weeks': 104.656448412698}\n",
      "{'rec_num': 2420, 'age_upon_outcome': '3 years', 'animal_id': 'A667090', 'animal_type': 'Dog', 'breed': 'Pit Bull Mix', 'color': 'Chocolate/White', 'date_of_birth': '2010-05-18', 'datetime': '2013-11-19 11:02:00', 'monthyear': '2013-11-19T11:02:00', 'name': 'Rex', 'outcome_subtype': 'Behavior', 'outcome_type': 'Euthanasia', 'sex_upon_outcome': 'Intact Male', 'location_lat': 30.318418955025, 'location_long': -97.6293635191184, 'age_upon_outcome_in_weeks': 183.065674603175}\n",
      "{'rec_num': 2599, 'age_upon_outcome': '1 year', 'animal_id': 'A682590', 'animal_type': 'Dog', 'breed': 'Mastiff/Boxer', 'color': 'Tan/White', 'date_of_birth': '2014-01-30', 'datetime': '2015-12-16 17:40:00', 'monthyear': '2015-12-16T17:40:00', 'name': 'Rex', 'outcome_subtype': '', 'outcome_type': 'Adoption', 'sex_upon_outcome': 'Neutered Male', 'location_lat': 30.3114816590906, 'location_long': -97.2952667860626, 'age_upon_outcome_in_weeks': 97.9623015873016}\n",
      "{'rec_num': 3117, 'age_upon_outcome': '7 years', 'animal_id': 'A629187', 'animal_type': 'Dog', 'breed': 'Chihuahua Shorthair Mix', 'color': 'Buff', 'date_of_birth': '2010-06-06', 'datetime': '2017-07-27 14:25:00', 'monthyear': '2017-07-27T14:25:00', 'name': 'Rex', 'outcome_subtype': '', 'outcome_type': 'Return to Owner', 'sex_upon_outcome': 'Neutered Male', 'location_lat': 30.6211749390762, 'location_long': -97.5625166482942, 'age_upon_outcome_in_weeks': 372.657242063492}\n",
      "{'rec_num': 3173, 'age_upon_outcome': '4 years', 'animal_id': 'A637206', 'animal_type': 'Dog', 'breed': 'Rottweiler Mix', 'color': 'Black/Tan', 'date_of_birth': '2011-09-14', 'datetime': '2016-02-27 16:00:00', 'monthyear': '2016-02-27T16:00:00', 'name': 'Rex', 'outcome_subtype': '', 'outcome_type': 'Return to Owner', 'sex_upon_outcome': 'Neutered Male', 'location_lat': 30.4658643373754, 'location_long': -97.2656775798968, 'age_upon_outcome_in_weeks': 232.52380952381}\n",
      "{'rec_num': 3837, 'age_upon_outcome': '3 years', 'animal_id': 'A651275', 'animal_type': 'Dog', 'breed': 'German Shepherd Mix', 'color': 'Black/Tan', 'date_of_birth': '2012-12-24', 'datetime': '2016-02-02 14:55:00', 'monthyear': '2016-02-02T14:55:00', 'name': 'Rex', 'outcome_subtype': 'Partner', 'outcome_type': 'Transfer', 'sex_upon_outcome': 'Neutered Male', 'location_lat': 30.4177621295128, 'location_long': -97.2865214196278, 'age_upon_outcome_in_weeks': 162.231646825397}\n",
      "{'rec_num': 4196, 'age_upon_outcome': '1 year', 'animal_id': 'A678537', 'animal_type': 'Dog', 'breed': 'Pit Bull Mix', 'color': 'Blue/White', 'date_of_birth': '2013-05-09', 'datetime': '2014-12-08 13:01:00', 'monthyear': '2014-12-08T13:01:00', 'name': 'Rex', 'outcome_subtype': 'Partner', 'outcome_type': 'Transfer', 'sex_upon_outcome': 'Intact Male', 'location_lat': 30.3719114464291, 'location_long': -97.7283626435569, 'age_upon_outcome_in_weeks': 82.6489087301587}\n",
      "{'rec_num': 4376, 'age_upon_outcome': '10 months', 'animal_id': 'A651275', 'animal_type': 'Dog', 'breed': 'German Shepherd Mix', 'color': 'Black/Tan', 'date_of_birth': '2012-12-24', 'datetime': '2013-11-09 14:11:00', 'monthyear': '2013-11-09T14:11:00', 'name': 'Rex', 'outcome_subtype': '', 'outcome_type': 'Adoption', 'sex_upon_outcome': 'Neutered Male', 'location_lat': 30.3787607248318, 'location_long': -97.4342348874998, 'age_upon_outcome_in_weeks': 45.7987103174603}\n",
      "{'rec_num': 4618, 'age_upon_outcome': '1 year', 'animal_id': 'A699090', 'animal_type': 'Dog', 'breed': 'Rottweiler Mix', 'color': 'Black/Brown', 'date_of_birth': '2014-03-22', 'datetime': '2015-03-23 18:46:00', 'monthyear': '2015-03-23T18:46:00', 'name': 'Rex', 'outcome_subtype': '', 'outcome_type': 'Return to Owner', 'sex_upon_outcome': 'Intact Male', 'location_lat': 30.5386801244642, 'location_long': -97.3509699090293, 'age_upon_outcome_in_weeks': 52.3974206349206}\n",
      "{'rec_num': 5264, 'age_upon_outcome': '1 year', 'animal_id': 'A669978', 'animal_type': 'Dog', 'breed': 'Whippet Mix', 'color': 'Red', 'date_of_birth': '2012-12-31', 'datetime': '2014-01-01 17:09:00', 'monthyear': '2014-01-01T17:09:00', 'name': 'Rex', 'outcome_subtype': '', 'outcome_type': 'Return to Owner', 'sex_upon_outcome': 'Neutered Male', 'location_lat': 30.3860340847797, 'location_long': -97.5755842389029, 'age_upon_outcome_in_weeks': 52.3877976190476}\n",
      "{'rec_num': 5602, 'age_upon_outcome': '1 year', 'animal_id': 'A755728', 'animal_type': 'Dog', 'breed': 'Pit Bull Mix', 'color': 'Brown Brindle/White', 'date_of_birth': '2016-08-08', 'datetime': '2018-01-14 14:24:00', 'monthyear': '2018-01-14T14:24:00', 'name': 'Rex', 'outcome_subtype': '', 'outcome_type': 'Return to Owner', 'sex_upon_outcome': 'Neutered Male', 'location_lat': 30.7570268557763, 'location_long': -97.5934075018631, 'age_upon_outcome_in_weeks': 74.9428571428571}\n",
      "{'rec_num': 6123, 'age_upon_outcome': '1 year', 'animal_id': 'A725884', 'animal_type': 'Dog', 'breed': 'German Shepherd Mix', 'color': 'Brown', 'date_of_birth': '2015-05-03', 'datetime': '2016-05-03 16:45:00', 'monthyear': '2016-05-03T16:45:00', 'name': 'Rex', 'outcome_subtype': '', 'outcome_type': 'Return to Owner', 'sex_upon_outcome': 'Neutered Male', 'location_lat': 30.7108896613249, 'location_long': -97.5174514535396, 'age_upon_outcome_in_weeks': 52.3854166666667}\n",
      "{'rec_num': 6963, 'age_upon_outcome': '1 year', 'animal_id': 'A696020', 'animal_type': 'Dog', 'breed': 'Rottweiler Mix', 'color': 'Black/Tan', 'date_of_birth': '2013-10-27', 'datetime': '2015-02-06 18:44:00', 'monthyear': '2015-02-06T18:44:00', 'name': 'Rex', 'outcome_subtype': '', 'outcome_type': 'Return to Owner', 'sex_upon_outcome': 'Intact Male', 'location_lat': 30.4442945931572, 'location_long': -97.4945440444166, 'age_upon_outcome_in_weeks': 66.8257936507937}\n",
      "{'rec_num': 7090, 'age_upon_outcome': '1 year', 'animal_id': 'A694662', 'animal_type': 'Dog', 'breed': 'Pit Bull/German Shepherd', 'color': 'Brown', 'date_of_birth': '2013-09-01', 'datetime': '2015-01-27 13:08:00', 'monthyear': '2015-01-27T13:08:00', 'name': 'Rex', 'outcome_subtype': '', 'outcome_type': 'Return to Owner', 'sex_upon_outcome': 'Neutered Male', 'location_lat': 30.5671288440269, 'location_long': -97.7354101350987, 'age_upon_outcome_in_weeks': 73.3638888888889}\n",
      "{'rec_num': 7302, 'age_upon_outcome': '5 months', 'animal_id': 'A725141', 'animal_type': 'Dog', 'breed': 'Pit Bull Mix', 'color': 'White/Black', 'date_of_birth': '2016-02-26', 'datetime': '2016-08-15 15:00:00', 'monthyear': '2016-08-15T15:00:00', 'name': 'Rex', 'outcome_subtype': '', 'outcome_type': 'Return to Owner', 'sex_upon_outcome': 'Neutered Male', 'location_lat': 30.2920731220548, 'location_long': -97.5455268822436, 'age_upon_outcome_in_weeks': 24.5178571428571}\n",
      "{'rec_num': 7377, 'age_upon_outcome': '2 years', 'animal_id': 'A703624', 'animal_type': 'Dog', 'breed': 'Pit Bull Mix', 'color': 'White/Brown', 'date_of_birth': '2013-05-27', 'datetime': '2015-05-31 15:35:00', 'monthyear': '2015-05-31T15:35:00', 'name': 'Rex', 'outcome_subtype': '', 'outcome_type': 'Return to Owner', 'sex_upon_outcome': 'Intact Male', 'location_lat': 30.4432339534359, 'location_long': -97.4316322786352, 'age_upon_outcome_in_weeks': 104.949900793651}\n",
      "{'rec_num': 8289, 'age_upon_outcome': '1 year', 'animal_id': 'A669978', 'animal_type': 'Dog', 'breed': 'Whippet Mix', 'color': 'Red', 'date_of_birth': '2012-12-31', 'datetime': '2014-02-23 12:52:00', 'monthyear': '2014-02-23T12:52:00', 'name': 'Rex', 'outcome_subtype': '', 'outcome_type': 'Return to Owner', 'sex_upon_outcome': 'Neutered Male', 'location_lat': 30.7287961521936, 'location_long': -97.6336394410841, 'age_upon_outcome_in_weeks': 59.9337301587302}\n",
      "{'rec_num': 8649, 'age_upon_outcome': '12 years', 'animal_id': 'A251214', 'animal_type': 'Dog', 'breed': 'German Shepherd Mix', 'color': 'Cream', 'date_of_birth': '2001-10-27', 'datetime': '2014-09-04 16:12:00', 'monthyear': '2014-09-04T16:12:00', 'name': 'Rex', 'outcome_subtype': '', 'outcome_type': 'Return to Owner', 'sex_upon_outcome': 'Neutered Male', 'location_lat': 30.5350026917388, 'location_long': -97.7391256654572, 'age_upon_outcome_in_weeks': 670.810714285714}\n",
      "{'rec_num': 8976, 'age_upon_outcome': '1 year', 'animal_id': 'A744301', 'animal_type': 'Dog', 'breed': 'Chihuahua Shorthair Mix', 'color': 'Tan', 'date_of_birth': '2016-02-26', 'datetime': '2017-08-14 11:55:00', 'monthyear': '2017-08-14T11:55:00', 'name': 'Rex', 'outcome_subtype': '', 'outcome_type': 'Adoption', 'sex_upon_outcome': 'Neutered Male', 'location_lat': 30.6445882693881, 'location_long': -97.5852186471212, 'age_upon_outcome_in_weeks': 76.499503968254}\n",
      "{'rec_num': 9289, 'age_upon_outcome': '4 years', 'animal_id': 'A698339', 'animal_type': 'Dog', 'breed': 'German Shepherd Mix', 'color': 'Black/Tan', 'date_of_birth': '2011-03-10', 'datetime': '2015-03-12 17:43:00', 'monthyear': '2015-03-12T17:43:00', 'name': 'Rex', 'outcome_subtype': '', 'outcome_type': 'Return to Owner', 'sex_upon_outcome': 'Neutered Male', 'location_lat': 30.5125060056143, 'location_long': -97.4782132981033, 'age_upon_outcome_in_weeks': 209.105456349206}\n",
      "{'rec_num': 9915, 'age_upon_outcome': '3 years', 'animal_id': 'A729153', 'animal_type': 'Dog', 'breed': 'German Shepherd/Pit Bull', 'color': 'Brown Brindle', 'date_of_birth': '2013-06-14', 'datetime': '2016-09-18 18:55:00', 'monthyear': '2016-09-18T18:55:00', 'name': 'Rex', 'outcome_subtype': '', 'outcome_type': 'Adoption', 'sex_upon_outcome': 'Intact Male', 'location_lat': 30.6356547979233, 'location_long': -97.5949082300561, 'age_upon_outcome_in_weeks': 170.398313492063}\n"
     ]
    }
   ],
   "source": [
    "#Valid query \n",
    "query = animals.read({\"name\": \"Rex\"})\n",
    "for animal in query:\n",
    "    print(animal)"
   ]
  },
  {
   "cell_type": "code",
   "execution_count": null,
   "id": "1c447131",
   "metadata": {},
   "outputs": [],
   "source": []
  },
  {
   "cell_type": "code",
   "execution_count": null,
   "id": "4d1e4ac1",
   "metadata": {},
   "outputs": [],
   "source": []
  },
  {
   "cell_type": "code",
   "execution_count": null,
   "id": "844cb6b9",
   "metadata": {},
   "outputs": [],
   "source": []
  },
  {
   "cell_type": "code",
   "execution_count": null,
   "id": "926dcf6e",
   "metadata": {},
   "outputs": [],
   "source": []
  }
 ],
 "metadata": {
  "kernelspec": {
   "display_name": "Python 3 (ipykernel)",
   "language": "python",
   "name": "python3"
  },
  "language_info": {
   "codemirror_mode": {
    "name": "ipython",
    "version": 3
   },
   "file_extension": ".py",
   "mimetype": "text/x-python",
   "name": "python",
   "nbconvert_exporter": "python",
   "pygments_lexer": "ipython3",
   "version": "3.9.12"
  }
 },
 "nbformat": 4,
 "nbformat_minor": 5
}
